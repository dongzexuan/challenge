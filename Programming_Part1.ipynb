{
 "cells": [
  {
   "cell_type": "markdown",
   "metadata": {},
   "source": [
    "Data engineering\n",
    "Step 0: import libraries;\n",
    "Step 1: Explore the x-y relationship, and if there are missing data. X-y is not linear relationship, so I decide to use SVM, and test different kernels. There are no missing data in this dataset;\n",
    "\n",
    "Model Building\n",
    "1. Split the data to 80% training data and 20% test data\n",
    "2. We don't have al ot of training data. Cross validation is useful to select optimal parameters \n",
    "\n",
    "\n",
    "Questions\n",
    "1. Reads data into pandas dataframe\n",
    "\n",
    "Answer: Please see S1 solution for Q1. \n",
    "\n",
    "2. Compute min, max, average, standard deviation, and the geometric mean for X, Y\n",
    "\n",
    "Answer: \n",
    "x_min 0.21\n",
    "y_min 1.124\n",
    "x_max 10.02\n",
    "y_max 7.498\n",
    "x_average 5.4991\n",
    "y_average 3.52513\n",
    "x_standard deviation 2.67292111044\n",
    "y_standard deviation 1.73459144117\n",
    "x_geometric mean 4.4953243612\n",
    "y_geometric mean 3.10830980506\n",
    "\n",
    "3. How would you write out the dataframe to a SQL table?\n",
    "\n",
    "Answer: Thursday\n",
    "\n",
    "4. Generates a predictive model of Y based on X (submit code and results); describe your\n",
    "approach\n",
    "\n",
    "Answer: \n",
    "1. Split the data to 80% training data and 20% test data\n",
    "2. We don't have a lot of training data. Cross validation is useful to select optimized parameters. I write code to select best parameters with GridSearchCV. The parameters to be determined for rbf kernel is gamma and c. The parameters to be determined for poly kernel is degree, coef0, gamma and c. 3-fold cross validation. Then I use the best parameters to train model.   \n",
    "\n",
    "\n",
    "5. Assess the accuracy of your predictive model\n",
    "\n",
    "Answer: MSE on test data 0.00282550841707\n",
    "R^2 score on test data 0.99882852914\n",
    "\n"
   ]
  },
  {
   "cell_type": "code",
   "execution_count": 1,
   "metadata": {},
   "outputs": [
    {
     "name": "stderr",
     "output_type": "stream",
     "text": [
      "O:\\Users\\xuan\\Anaconda2\\lib\\site-packages\\statsmodels\\compat\\pandas.py:56: FutureWarning: The pandas.core.datetools module is deprecated and will be removed in a future version. Please use the pandas.tseries module instead.\n",
      "  from pandas.core import datetools\n"
     ]
    }
   ],
   "source": [
    "import pandas as pd\n",
    "import numpy as np\n",
    "from scipy import stats\n",
    "from IPython.display import display\n",
    "import matplotlib.pyplot as plt\n",
    "from sklearn.model_selection import train_test_split\n",
    "from sklearn.metrics import mean_squared_error\n",
    "from sklearn.svm import SVR\n",
    "from sklearn import model_selection\n",
    "\n"
   ]
  },
  {
   "cell_type": "markdown",
   "metadata": {},
   "source": [
    "S1 solution for Q1"
   ]
  },
  {
   "cell_type": "code",
   "execution_count": 2,
   "metadata": {
    "collapsed": true
   },
   "outputs": [],
   "source": [
    "df=pd.read_csv('Programming_Part1_TTI_Challenge.csv', sep='\\t') "
   ]
  },
  {
   "cell_type": "code",
   "execution_count": 3,
   "metadata": {},
   "outputs": [
    {
     "data": {
      "text/html": [
       "<div>\n",
       "<style>\n",
       "    .dataframe thead tr:only-child th {\n",
       "        text-align: right;\n",
       "    }\n",
       "\n",
       "    .dataframe thead th {\n",
       "        text-align: left;\n",
       "    }\n",
       "\n",
       "    .dataframe tbody tr th {\n",
       "        vertical-align: top;\n",
       "    }\n",
       "</style>\n",
       "<table border=\"1\" class=\"dataframe\">\n",
       "  <thead>\n",
       "    <tr style=\"text-align: right;\">\n",
       "      <th></th>\n",
       "      <th>Class</th>\n",
       "      <th>PartNo</th>\n",
       "      <th>X</th>\n",
       "      <th>Y</th>\n",
       "    </tr>\n",
       "  </thead>\n",
       "  <tbody>\n",
       "    <tr>\n",
       "      <th>0</th>\n",
       "      <td>AAA</td>\n",
       "      <td>X135</td>\n",
       "      <td>0.21</td>\n",
       "      <td>1.124</td>\n",
       "    </tr>\n",
       "    <tr>\n",
       "      <th>1</th>\n",
       "      <td>AAA</td>\n",
       "      <td>X126</td>\n",
       "      <td>0.21</td>\n",
       "      <td>1.179</td>\n",
       "    </tr>\n",
       "    <tr>\n",
       "      <th>2</th>\n",
       "      <td>EBHA</td>\n",
       "      <td>X195</td>\n",
       "      <td>0.32</td>\n",
       "      <td>1.191</td>\n",
       "    </tr>\n",
       "    <tr>\n",
       "      <th>3</th>\n",
       "      <td>EBHA</td>\n",
       "      <td>X194</td>\n",
       "      <td>0.82</td>\n",
       "      <td>1.249</td>\n",
       "    </tr>\n",
       "    <tr>\n",
       "      <th>4</th>\n",
       "      <td>AAA</td>\n",
       "      <td>X139</td>\n",
       "      <td>0.81</td>\n",
       "      <td>1.255</td>\n",
       "    </tr>\n",
       "  </tbody>\n",
       "</table>\n",
       "</div>"
      ],
      "text/plain": [
       "  Class PartNo     X      Y\n",
       "0   AAA   X135  0.21  1.124\n",
       "1   AAA   X126  0.21  1.179\n",
       "2  EBHA   X195  0.32  1.191\n",
       "3  EBHA   X194  0.82  1.249\n",
       "4   AAA   X139  0.81  1.255"
      ]
     },
     "metadata": {},
     "output_type": "display_data"
    }
   ],
   "source": [
    "display(df.head())"
   ]
  },
  {
   "cell_type": "code",
   "execution_count": 4,
   "metadata": {},
   "outputs": [
    {
     "data": {
      "text/html": [
       "<div>\n",
       "<style>\n",
       "    .dataframe thead tr:only-child th {\n",
       "        text-align: right;\n",
       "    }\n",
       "\n",
       "    .dataframe thead th {\n",
       "        text-align: left;\n",
       "    }\n",
       "\n",
       "    .dataframe tbody tr th {\n",
       "        vertical-align: top;\n",
       "    }\n",
       "</style>\n",
       "<table border=\"1\" class=\"dataframe\">\n",
       "  <thead>\n",
       "    <tr style=\"text-align: right;\">\n",
       "      <th></th>\n",
       "      <th>Class</th>\n",
       "      <th>PartNo</th>\n",
       "      <th>X</th>\n",
       "      <th>Y</th>\n",
       "    </tr>\n",
       "  </thead>\n",
       "  <tbody>\n",
       "    <tr>\n",
       "      <th>count</th>\n",
       "      <td>100</td>\n",
       "      <td>100</td>\n",
       "      <td>100.000000</td>\n",
       "      <td>100.000000</td>\n",
       "    </tr>\n",
       "    <tr>\n",
       "      <th>unique</th>\n",
       "      <td>3</td>\n",
       "      <td>100</td>\n",
       "      <td>NaN</td>\n",
       "      <td>NaN</td>\n",
       "    </tr>\n",
       "    <tr>\n",
       "      <th>top</th>\n",
       "      <td>EBHA</td>\n",
       "      <td>X120</td>\n",
       "      <td>NaN</td>\n",
       "      <td>NaN</td>\n",
       "    </tr>\n",
       "    <tr>\n",
       "      <th>freq</th>\n",
       "      <td>41</td>\n",
       "      <td>1</td>\n",
       "      <td>NaN</td>\n",
       "      <td>NaN</td>\n",
       "    </tr>\n",
       "    <tr>\n",
       "      <th>mean</th>\n",
       "      <td>NaN</td>\n",
       "      <td>NaN</td>\n",
       "      <td>5.499100</td>\n",
       "      <td>3.525130</td>\n",
       "    </tr>\n",
       "    <tr>\n",
       "      <th>std</th>\n",
       "      <td>NaN</td>\n",
       "      <td>NaN</td>\n",
       "      <td>2.672921</td>\n",
       "      <td>1.734591</td>\n",
       "    </tr>\n",
       "    <tr>\n",
       "      <th>min</th>\n",
       "      <td>NaN</td>\n",
       "      <td>NaN</td>\n",
       "      <td>0.210000</td>\n",
       "      <td>1.124000</td>\n",
       "    </tr>\n",
       "    <tr>\n",
       "      <th>25%</th>\n",
       "      <td>NaN</td>\n",
       "      <td>NaN</td>\n",
       "      <td>3.515000</td>\n",
       "      <td>2.086250</td>\n",
       "    </tr>\n",
       "    <tr>\n",
       "      <th>50%</th>\n",
       "      <td>NaN</td>\n",
       "      <td>NaN</td>\n",
       "      <td>5.310000</td>\n",
       "      <td>2.974000</td>\n",
       "    </tr>\n",
       "    <tr>\n",
       "      <th>75%</th>\n",
       "      <td>NaN</td>\n",
       "      <td>NaN</td>\n",
       "      <td>7.810000</td>\n",
       "      <td>4.919500</td>\n",
       "    </tr>\n",
       "    <tr>\n",
       "      <th>max</th>\n",
       "      <td>NaN</td>\n",
       "      <td>NaN</td>\n",
       "      <td>10.020000</td>\n",
       "      <td>7.498000</td>\n",
       "    </tr>\n",
       "  </tbody>\n",
       "</table>\n",
       "</div>"
      ],
      "text/plain": [
       "       Class PartNo           X           Y\n",
       "count    100    100  100.000000  100.000000\n",
       "unique     3    100         NaN         NaN\n",
       "top     EBHA   X120         NaN         NaN\n",
       "freq      41      1         NaN         NaN\n",
       "mean     NaN    NaN    5.499100    3.525130\n",
       "std      NaN    NaN    2.672921    1.734591\n",
       "min      NaN    NaN    0.210000    1.124000\n",
       "25%      NaN    NaN    3.515000    2.086250\n",
       "50%      NaN    NaN    5.310000    2.974000\n",
       "75%      NaN    NaN    7.810000    4.919500\n",
       "max      NaN    NaN   10.020000    7.498000"
      ]
     },
     "metadata": {},
     "output_type": "display_data"
    }
   ],
   "source": [
    "display(df.describe(include='all'))"
   ]
  },
  {
   "cell_type": "markdown",
   "metadata": {},
   "source": [
    "Explore the x-y relationship. It is not a linear relationship."
   ]
  },
  {
   "cell_type": "code",
   "execution_count": 5,
   "metadata": {},
   "outputs": [
    {
     "data": {
      "image/png": "[encoded data removed]",
      "text/plain": [
       "<matplotlib.figure.Figure at 0xdd09da0>"
      ]
     },
     "metadata": {},
     "output_type": "display_data"
    }
   ],
   "source": [
    "df.plot(x=\"X\", y=\"Y\", kind='scatter')\n",
    "plt.show()"
   ]
  },
  {
   "cell_type": "markdown",
   "metadata": {},
   "source": [
    "S2 solution for Q2"
   ]
  },
  {
   "cell_type": "code",
   "execution_count": 6,
   "metadata": {},
   "outputs": [
    {
     "name": "stdout",
     "output_type": "stream",
     "text": [
      "x_min 0.21\n",
      "y_min 1.124\n",
      "x_max 10.02\n",
      "y_max 7.498\n",
      "x_average 5.4991\n",
      "y_average 3.52513\n",
      "x_standard deviation 2.67292111044\n",
      "y_standard deviation 1.73459144117\n",
      "x_geometric mean 4.4953243612\n",
      "y_geometric mean 3.10830980506\n"
     ]
    }
   ],
   "source": [
    "x_mean=df.X.mean()\n",
    "y_mean=df.Y.mean()\n",
    "x_min=df.X.min()\n",
    "y_min=df.Y.min()\n",
    "x_max=df.X.max()\n",
    "y_max=df.Y.max()\n",
    "x_std=df.X.std()\n",
    "y_std=df.Y.std()\n",
    "x_gmean=stats.gmean(df.X)\n",
    "y_gmean=stats.gmean(df.Y)\n",
    "print \"x_min\", x_min\n",
    "print \"y_min\", y_min \n",
    "print \"x_max\", x_max \n",
    "print \"y_max\", y_max \n",
    "print \"x_average\", x_mean\n",
    "print \"y_average\", y_mean \n",
    "print \"x_standard deviation\", x_std \n",
    "print \"y_standard deviation\", y_std\n",
    "print \"x_geometric mean\", x_gmean\n",
    "print \"y_geometric mean\", y_gmean \n"
   ]
  },
  {
   "cell_type": "markdown",
   "metadata": {},
   "source": [
    "Separate training and testing data"
   ]
  },
  {
   "cell_type": "code",
   "execution_count": 7,
   "metadata": {
    "scrolled": false
   },
   "outputs": [
    {
     "name": "stdout",
     "output_type": "stream",
     "text": [
      "(80L, 1L) (20L, 1L) (80L,) (20L,)\n"
     ]
    },
    {
     "name": "stderr",
     "output_type": "stream",
     "text": [
      "O:\\Users\\xuan\\Anaconda2\\lib\\site-packages\\ipykernel_launcher.py:1: FutureWarning: reshape is deprecated and will raise in a subsequent release. Please use .values.reshape(...) instead\n",
      "  \"\"\"Entry point for launching an IPython kernel.\n"
     ]
    }
   ],
   "source": [
    "x_train, x_test, y_train, y_test = train_test_split(df.X.reshape(-1, 1), df.Y, test_size=0.2, random_state=42)\n",
    "print x_train.shape, x_test.shape, y_train.shape, y_test.shape"
   ]
  },
  {
   "cell_type": "code",
   "execution_count": 11,
   "metadata": {},
   "outputs": [
    {
     "name": "stdout",
     "output_type": "stream",
     "text": [
      "Best params: {'kernel': 'rbf', 'C': 500, 'gamma': 0.01} \n",
      "Best params: {'kernel': 'poly', 'C': 1, 'coef0': 1, 'gamma': 0.1, 'degree': 3} \n"
     ]
    }
   ],
   "source": [
    "#use gridsearch to slect best parameters for rbf and poly kernels.\n",
    "space = [{'kernel':['rbf'], 'gamma': [0.01, 0.1,0.2], 'C': [10,100,500,1000]},\n",
    "                    {'kernel':['poly'], 'degree': [2, 3],  'gamma': [0.01,0.1,0.2],'C': [1,10, 100], 'coef0': [0, 1]}\n",
    "    ]\n",
    "         \n",
    "for param_grid in space:\n",
    "    model = SVR()\n",
    "    model_search = model_selection.GridSearchCV(estimator=model, param_grid = param_grid, cv=3)\n",
    "    model_search.fit(x_train,y_train)\n",
    "    print \"Best params: %s \" % model_search.best_params_\n"
   ]
  },
  {
   "cell_type": "markdown",
   "metadata": {},
   "source": [
    "Use best parameter to train model"
   ]
  },
  {
   "cell_type": "code",
   "execution_count": 31,
   "metadata": {},
   "outputs": [
    {
     "name": "stdout",
     "output_type": "stream",
     "text": [
      "MSE on training data 0.00263043041837\n",
      "MSE on test data 0.00362989007349\n",
      "R^2 score 0.998495028215\n"
     ]
    }
   ],
   "source": [
    "model = SVR(kernel='poly', C=1, degree=3, coef0= 1, gamma=0.1).fit(x_train, y_train)\n",
    "pred_train = model.predict(x_train)\n",
    "pred_test = model.predict(x_test)\n",
    "print \"MSE on training data\", mean_squared_error(y_train, pred_train)\n",
    "print \"MSE on test data\", mean_squared_error(y_test, pred_test)\n",
    "print \"R^2 score\", model.score(x_test, y_test)"
   ]
  },
  {
   "cell_type": "code",
   "execution_count": 32,
   "metadata": {},
   "outputs": [
    {
     "name": "stdout",
     "output_type": "stream",
     "text": [
      "MSE on training data 0.00274978634581\n",
      "MSE on test data 0.00282550841707\n",
      "R^2 score 0.99882852914\n"
     ]
    }
   ],
   "source": [
    "model = SVR(kernel='rbf', C=500, gamma=0.01).fit(x_train, y_train)\n",
    "pred_train = model.predict(x_train)\n",
    "pred_test = model.predict(x_test)\n",
    "print \"MSE on training data\", mean_squared_error(y_train, pred_train)\n",
    "print \"MSE on test data\", mean_squared_error(y_test, pred_test)\n",
    "print \"R^2 score\", model.score(x_test, y_test)"
   ]
  },
  {
   "cell_type": "markdown",
   "metadata": {},
   "source": [
    "rbf kernel performs a little better than poly kernel. However as I mentioned previously, the dataset is small, so if we have more data in the future, we definately need to train the model again."
   ]
  },
  {
   "cell_type": "code",
   "execution_count": 27,
   "metadata": {},
   "outputs": [
    {
     "data": {
      "image/png": "[encoded data removed]",
      "text/plain": [
       "<matplotlib.figure.Figure at 0xe856b70>"
      ]
     },
     "metadata": {},
     "output_type": "display_data"
    }
   ],
   "source": [
    "#show a simple plot\n",
    "true_y=plt.plot(x_test,y_test, 'r^', label='True y')\n",
    "pred_y=plt.plot(x_test, pred_test, 'bs', label='Predicted y')\n",
    "legend = plt.legend(loc='lower right')\n",
    "\n",
    "plt.show()"
   ]
  },
  {
   "cell_type": "code",
   "execution_count": null,
   "metadata": {
    "collapsed": true
   },
   "outputs": [],
   "source": []
  }
 ],
 "metadata": {
  "kernelspec": {
   "display_name": "Python 2",
   "language": "python",
   "name": "python2"
  },
  "language_info": {
   "codemirror_mode": {
    "name": "ipython",
    "version": 2
   },
   "file_extension": ".py",
   "mimetype": "text/x-python",
   "name": "python",
   "nbconvert_exporter": "python",
   "pygments_lexer": "ipython2",
   "version": "2.7.13"
  }
 },
 "nbformat": 4,
 "nbformat_minor": 2
}
